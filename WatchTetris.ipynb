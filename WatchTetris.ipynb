{
 "cells": [
  {
   "cell_type": "code",
   "execution_count": 33,
   "metadata": {},
   "outputs": [],
   "source": [
    "import torch\n",
    "from tetris.Tetris import watch_bot_tetris, O, HumanTetris\n",
    "from utils import get_screen\n",
    "import time\n",
    "from IPython.display import clear_output\n",
    "import numpy as np\n",
    "device = torch.device(\"cuda:0\" if torch.cuda.is_available() else \"cpu\")\n",
    "\n",
    "load_net_prefix = './models/statePredictor'\n",
    "load_net_number = 0\n",
    "net_to_load = f'{load_net_prefix}{load_net_number}'\n",
    "policy_net = torch.load(net_to_load)\n",
    "policy_net.eval()\n",
    "\n",
    "action_func = lambda e: policy_net.eval()(get_screen(e.get_grid(), device))[0].max(1)[1].view(1, 1).squeeze().item()"
   ]
  },
  {
   "cell_type": "code",
   "execution_count": 2,
   "metadata": {},
   "outputs": [
    {
     "name": "stdout",
     "output_type": "stream",
     "text": [
      ".  .  .  .  .  .  .  .  .  .\n",
      ".  .  .  .  .  .  .  .  .  .\n",
      ".  .  .  .  .  .  .  .  .  .\n",
      ".  .  .  .  .  .  .  .  .  .\n",
      ".  .  .  .  .  .  .  .  .  .\n",
      ".  .  .  .  .  .  .  .  .  .\n",
      ".  .  .  .  .  .  .  .  .  .\n",
      ".  .  .  .  .  .  .  .  .  .\n",
      ".  .  .  .  .  .  .  .  .  .\n",
      ".  .  .  .  .  .  .  .  .  .\n",
      "O  O  .  .  .  .  .  .  .  .\n",
      "O  O  .  .  .  .  .  .  .  .\n",
      ".  .  .  .  .  .  .  .  .  .\n",
      ".  .  .  .  .  .  .  .  .  .\n",
      ".  .  .  .  .  .  .  .  .  .\n",
      ".  .  .  .  .  .  .  .  .  .\n",
      ".  .  .  .  .  .  .  .  .  .\n",
      ".  .  .  .  .  .  .  .  .  .\n",
      ".  .  .  .  .  .  .  .  .  .\n",
      ".  .  .  .  .  .  .  .  .  .\n"
     ]
    },
    {
     "ename": "KeyboardInterrupt",
     "evalue": "",
     "output_type": "error",
     "traceback": [
      "\u001b[0;31m---------------------------------------------------------------------------\u001b[0m",
      "\u001b[0;31mKeyboardInterrupt\u001b[0m                         Traceback (most recent call last)",
      "\u001b[0;32m<ipython-input-2-ff16bfe13867>\u001b[0m in \u001b[0;36m<module>\u001b[0;34m\u001b[0m\n\u001b[0;32m----> 1\u001b[0;31m \u001b[0mwatch_bot_tetris\u001b[0m\u001b[0;34m(\u001b[0m\u001b[0maction_func\u001b[0m\u001b[0;34m,\u001b[0m \u001b[0mpieces\u001b[0m\u001b[0;34m=\u001b[0m\u001b[0;34m[\u001b[0m\u001b[0mO\u001b[0m\u001b[0;34m]\u001b[0m\u001b[0;34m,\u001b[0m \u001b[0mturn_time\u001b[0m\u001b[0;34m=\u001b[0m\u001b[0;36m0.5\u001b[0m\u001b[0;34m,\u001b[0m \u001b[0mstart_drop_rate\u001b[0m\u001b[0;34m=\u001b[0m\u001b[0;36m1\u001b[0m\u001b[0;34m,\u001b[0m \u001b[0mlockout_rate\u001b[0m\u001b[0;34m=\u001b[0m\u001b[0;36m0\u001b[0m\u001b[0;34m)\u001b[0m\u001b[0;34m\u001b[0m\u001b[0;34m\u001b[0m\u001b[0m\n\u001b[0m",
      "\u001b[0;32m~/Documents/Programs/Tetris/tetris/Tetris.py\u001b[0m in \u001b[0;36mwatch_bot_tetris\u001b[0;34m(action_function, turn_time, **kwargs)\u001b[0m\n\u001b[1;32m    252\u001b[0m         \u001b[0;32mwhile\u001b[0m \u001b[0;32mnot\u001b[0m \u001b[0mdone\u001b[0m\u001b[0;34m:\u001b[0m\u001b[0;34m\u001b[0m\u001b[0;34m\u001b[0m\u001b[0m\n\u001b[1;32m    253\u001b[0m             \u001b[0maction\u001b[0m \u001b[0;34m=\u001b[0m \u001b[0maction_function\u001b[0m\u001b[0;34m(\u001b[0m\u001b[0menv\u001b[0m\u001b[0;34m)\u001b[0m\u001b[0;34m\u001b[0m\u001b[0;34m\u001b[0m\u001b[0m\n\u001b[0;32m--> 254\u001b[0;31m             \u001b[0mtime\u001b[0m\u001b[0;34m.\u001b[0m\u001b[0msleep\u001b[0m\u001b[0;34m(\u001b[0m\u001b[0mturn_time\u001b[0m\u001b[0;34m)\u001b[0m\u001b[0;34m\u001b[0m\u001b[0;34m\u001b[0m\u001b[0m\n\u001b[0m\u001b[1;32m    255\u001b[0m             \u001b[0m_\u001b[0m\u001b[0;34m,\u001b[0m \u001b[0m_\u001b[0m\u001b[0;34m,\u001b[0m \u001b[0mdone\u001b[0m \u001b[0;34m=\u001b[0m \u001b[0menv\u001b[0m\u001b[0;34m.\u001b[0m\u001b[0mstep\u001b[0m\u001b[0;34m(\u001b[0m\u001b[0maction\u001b[0m\u001b[0;34m)\u001b[0m\u001b[0;34m\u001b[0m\u001b[0;34m\u001b[0m\u001b[0m\n\u001b[1;32m    256\u001b[0m             \u001b[0mclear_output\u001b[0m\u001b[0;34m(\u001b[0m\u001b[0mwait\u001b[0m\u001b[0;34m=\u001b[0m\u001b[0;32mTrue\u001b[0m\u001b[0;34m)\u001b[0m\u001b[0;34m\u001b[0m\u001b[0;34m\u001b[0m\u001b[0m\n",
      "\u001b[0;31mKeyboardInterrupt\u001b[0m: "
     ]
    }
   ],
   "source": [
    "watch_bot_tetris(action_func, pieces=[O], turn_time=0.5, start_drop_rate=1, lockout_rate=0)"
   ]
  },
  {
   "cell_type": "code",
   "execution_count": 61,
   "metadata": {},
   "outputs": [],
   "source": [
    "def print_human_grid(self, state):\n",
    "    np_state = state.detach().cpu().numpy()\n",
    "    for idx, x in enumerate(self._get_grid_with_piece()[::-1]):\n",
    "        # Actual state\n",
    "        binary_array = np.array(list(bin(x)[5:-3]))\n",
    "        character_array = np.where(binary_array, 'O', '.')\n",
    "        \n",
    "        # Predicted state\n",
    "        pred_char_array = list(map(str, np_state[0, 0, -idx-1]))[::-1]\n",
    "        print('  '.join(character_array) + '        ' +  '  '.join(pred_char_array))\n",
    "        \n",
    "def detailed_print(policy_net, turn_time=0.1, **kwargs):\n",
    "    def act_state(e):\n",
    "        values, state = policy_net.eval()(get_screen(e.get_grid(), device))\n",
    "        best_val = values.max(1)[1].view(1, 1).squeeze().item()\n",
    "        return best_val, state\n",
    "    env = HumanTetris(**kwargs)\n",
    "    while True:\n",
    "        done = False\n",
    "        while not done:\n",
    "            action, state = act_state(env)\n",
    "            time.sleep(turn_time)\n",
    "            _, _, done = env.step(action)\n",
    "            clear_output(wait=True)\n",
    "            print_human_grid(env, state)\n",
    "        env.reset()"
   ]
  },
  {
   "cell_type": "code",
   "execution_count": 62,
   "metadata": {},
   "outputs": [
    {
     "name": "stdout",
     "output_type": "stream",
     "text": [
      ".  .  .  .  .  .  .  .  .  .        0.0  0.0  0.0  0.0  0.0  0.0  0.0  0.0  0.0  0.0\n",
      ".  .  .  .  .  .  .  .  .  .        0.0  0.0  0.0  0.0  0.0  0.0  0.0  0.0  0.0  0.0\n",
      ".  .  .  .  .  .  .  .  .  .        0.0  0.0  0.0  0.0  0.0  0.0  0.0  0.0  0.0  0.0\n",
      ".  .  .  .  .  .  .  .  .  .        0.0  0.0  0.0  0.0  0.0  0.0  0.0  0.0  0.0  0.0\n",
      ".  .  .  .  .  .  .  .  .  .        0.0  0.0  0.0  0.0  0.0  0.0  0.0  0.0  0.0  0.0\n",
      ".  .  .  .  .  .  .  .  .  .        0.0  0.0  0.0  0.0  0.0  0.0  0.0  0.0  0.0  0.0\n",
      ".  .  .  .  .  .  .  .  .  .        0.0  0.0  0.0  0.0  0.0  0.0  0.0  0.0  0.0  0.0\n",
      ".  .  .  .  .  .  .  .  .  .        0.0  0.0  0.0  0.0  0.0  0.0  0.0  0.0  0.0  0.0\n",
      ".  .  .  .  .  .  .  .  .  .        1.0  1.0  0.0  0.0  0.0  0.0  0.0  0.0  0.0  0.0\n",
      "O  O  .  .  .  .  .  .  .  .        1.0  1.0  0.0  0.0  0.0  0.0  0.0  0.0  0.0  0.0\n",
      "O  O  .  .  .  .  .  .  .  .        0.0  0.0  0.0  0.0  0.0  0.0  0.0  0.0  0.0  0.0\n",
      ".  .  .  .  .  .  .  .  .  .        0.0  0.0  0.0  0.0  0.0  0.0  0.0  0.0  0.0  0.0\n",
      "O  O  .  .  .  .  .  .  .  .        1.0  1.0  0.0  0.0  0.0  0.0  0.0  0.0  0.0  0.0\n",
      "O  O  .  .  .  .  .  .  .  .        1.0  1.0  0.0  0.0  0.0  0.0  0.0  0.0  0.0  0.0\n",
      "O  O  .  .  .  .  .  .  .  .        1.0  1.0  0.0  0.0  0.0  0.0  0.0  0.0  0.0  0.0\n",
      "O  O  .  .  .  .  .  .  .  .        1.0  1.0  0.0  0.0  0.0  0.0  0.0  0.0  0.0  0.0\n",
      "O  O  .  .  .  .  .  .  .  .        1.0  1.0  0.0  0.0  0.0  0.0  0.0  0.0  0.0  0.0\n",
      "O  O  .  .  .  .  .  .  .  .        1.0  1.0  0.0  0.0  0.0  0.0  0.0  0.0  0.0  0.0\n",
      "O  O  .  .  .  .  .  .  .  .        1.0  1.0  0.0  0.0  0.0  0.0  0.0  0.0  0.0  0.0\n",
      "O  O  .  .  .  .  .  .  .  .        1.0  1.0  0.0  0.0  0.0  0.0  0.0  0.0  0.0  0.0\n"
     ]
    },
    {
     "ename": "KeyboardInterrupt",
     "evalue": "",
     "output_type": "error",
     "traceback": [
      "\u001b[0;31m---------------------------------------------------------------------------\u001b[0m",
      "\u001b[0;31mKeyboardInterrupt\u001b[0m                         Traceback (most recent call last)",
      "\u001b[0;32m<ipython-input-62-1c5d4ef48b28>\u001b[0m in \u001b[0;36m<module>\u001b[0;34m\u001b[0m\n\u001b[0;32m----> 1\u001b[0;31m \u001b[0mdetailed_print\u001b[0m\u001b[0;34m(\u001b[0m\u001b[0mpolicy_net\u001b[0m\u001b[0;34m,\u001b[0m \u001b[0mpieces\u001b[0m\u001b[0;34m=\u001b[0m\u001b[0;34m[\u001b[0m\u001b[0mO\u001b[0m\u001b[0;34m]\u001b[0m\u001b[0;34m,\u001b[0m \u001b[0mturn_time\u001b[0m\u001b[0;34m=\u001b[0m\u001b[0;36m0.1\u001b[0m\u001b[0;34m,\u001b[0m \u001b[0mstart_drop_rate\u001b[0m\u001b[0;34m=\u001b[0m\u001b[0;36m1\u001b[0m\u001b[0;34m,\u001b[0m \u001b[0mlockout_rate\u001b[0m\u001b[0;34m=\u001b[0m\u001b[0;36m0\u001b[0m\u001b[0;34m)\u001b[0m\u001b[0;34m\u001b[0m\u001b[0;34m\u001b[0m\u001b[0m\n\u001b[0m",
      "\u001b[0;32m<ipython-input-61-555dc844e411>\u001b[0m in \u001b[0;36mdetailed_print\u001b[0;34m(policy_net, turn_time, **kwargs)\u001b[0m\n\u001b[1;32m     20\u001b[0m         \u001b[0;32mwhile\u001b[0m \u001b[0;32mnot\u001b[0m \u001b[0mdone\u001b[0m\u001b[0;34m:\u001b[0m\u001b[0;34m\u001b[0m\u001b[0;34m\u001b[0m\u001b[0m\n\u001b[1;32m     21\u001b[0m             \u001b[0maction\u001b[0m\u001b[0;34m,\u001b[0m \u001b[0mstate\u001b[0m \u001b[0;34m=\u001b[0m \u001b[0mact_state\u001b[0m\u001b[0;34m(\u001b[0m\u001b[0menv\u001b[0m\u001b[0;34m)\u001b[0m\u001b[0;34m\u001b[0m\u001b[0;34m\u001b[0m\u001b[0m\n\u001b[0;32m---> 22\u001b[0;31m             \u001b[0mtime\u001b[0m\u001b[0;34m.\u001b[0m\u001b[0msleep\u001b[0m\u001b[0;34m(\u001b[0m\u001b[0mturn_time\u001b[0m\u001b[0;34m)\u001b[0m\u001b[0;34m\u001b[0m\u001b[0;34m\u001b[0m\u001b[0m\n\u001b[0m\u001b[1;32m     23\u001b[0m             \u001b[0m_\u001b[0m\u001b[0;34m,\u001b[0m \u001b[0m_\u001b[0m\u001b[0;34m,\u001b[0m \u001b[0mdone\u001b[0m \u001b[0;34m=\u001b[0m \u001b[0menv\u001b[0m\u001b[0;34m.\u001b[0m\u001b[0mstep\u001b[0m\u001b[0;34m(\u001b[0m\u001b[0maction\u001b[0m\u001b[0;34m)\u001b[0m\u001b[0;34m\u001b[0m\u001b[0;34m\u001b[0m\u001b[0m\n\u001b[1;32m     24\u001b[0m             \u001b[0mclear_output\u001b[0m\u001b[0;34m(\u001b[0m\u001b[0mwait\u001b[0m\u001b[0;34m=\u001b[0m\u001b[0;32mTrue\u001b[0m\u001b[0;34m)\u001b[0m\u001b[0;34m\u001b[0m\u001b[0;34m\u001b[0m\u001b[0m\n",
      "\u001b[0;31mKeyboardInterrupt\u001b[0m: "
     ]
    }
   ],
   "source": [
    "detailed_print(policy_net, pieces=[O], turn_time=0.1, start_drop_rate=1, lockout_rate=0)"
   ]
  },
  {
   "cell_type": "code",
   "execution_count": null,
   "metadata": {},
   "outputs": [],
   "source": []
  }
 ],
 "metadata": {
  "kernelspec": {
   "display_name": "Python 3",
   "language": "python",
   "name": "python3"
  },
  "language_info": {
   "codemirror_mode": {
    "name": "ipython",
    "version": 3
   },
   "file_extension": ".py",
   "mimetype": "text/x-python",
   "name": "python",
   "nbconvert_exporter": "python",
   "pygments_lexer": "ipython3",
   "version": "3.6.7"
  }
 },
 "nbformat": 4,
 "nbformat_minor": 2
}
