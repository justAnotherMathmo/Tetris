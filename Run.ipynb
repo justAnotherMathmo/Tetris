{
 "cells": [
  {
   "cell_type": "code",
   "execution_count": 1,
   "metadata": {},
   "outputs": [],
   "source": [
    "# Misc Python Imports\n",
    "import random\n",
    "import numpy as np\n",
    "import itertools\n",
    "\n",
    "# Game Imports\n",
    "from tetris.Tetris import Tetris, O\n",
    "\n",
    "# Local Imports\n",
    "import params\n",
    "import model\n",
    "import utils\n",
    "import memory\n",
    "import reward\n",
    "import loss\n",
    "\n",
    "\n",
    "# Torch Imports & initialisation\n",
    "import torch\n",
    "# from torch.utils.tensorboard import SummaryWriter\n",
    "import torch.optim as optim\n",
    "device = torch.device(\"cuda:0\" if torch.cuda.is_available() else \"cpu\")\n",
    "\n",
    "# writer = SummaryWriter()"
   ]
  },
  {
   "cell_type": "code",
   "execution_count": 2,
   "metadata": {},
   "outputs": [
    {
     "name": "stdout",
     "output_type": "stream",
     "text": [
      "Fell back to creating a new net...\n"
     ]
    }
   ],
   "source": [
    "# Game initialisation\n",
    "env = Tetris(pieces=[O])\n",
    "env.lockout_rate = 0\n",
    "env.start_drop_rate = 1\n",
    "env.reset()\n",
    "num_states = len(env.actions) - 2  # Get rid of hard + soft drop for now...\n",
    "\n",
    "# Get screen size so that we can initialize layers correctly based on shape\n",
    "init_screen = utils.get_screen(env.get_grid(), device)\n",
    "_, _, screen_height, screen_width = init_screen.shape\n",
    "\n",
    "# Attempt to load a net - if not make a new one\n",
    "load_net_prefix = './models/statePredictor2v'\n",
    "load_net_number = 0\n",
    "net_to_load = f'{load_net_prefix}{load_net_number}'\n",
    "try:\n",
    "    policy_net = torch.load(net_to_load)\n",
    "    policy_net.eval()\n",
    "    target_net = torch.load(net_to_load)\n",
    "    target_net.eval()\n",
    "    print(f'{net_to_load} loaded...')\n",
    "except FileNotFoundError:\n",
    "    policy_net = model.DQN(screen_height, screen_width, num_states).to(device)\n",
    "    target_net = model.DQN(screen_height, screen_width, num_states).to(device)\n",
    "    target_net.load_state_dict(policy_net.state_dict())\n",
    "    target_net.eval()\n",
    "    print(f'Fell back to creating a new net...')\n",
    "\n",
    "# Set up optimizer and memory\n",
    "optimizer = optim.Adam(policy_net.parameters(), lr=params.LEARNING_RATE)\n",
    "model_memory = memory.ReplayMemory(params.MEMORY_SIZE)"
   ]
  },
  {
   "cell_type": "code",
   "execution_count": 3,
   "metadata": {},
   "outputs": [],
   "source": [
    "def select_action(state, eps_threshold):\n",
    "    sample = random.random()\n",
    "    if sample > eps_threshold:\n",
    "        with torch.no_grad():\n",
    "            # t.max(1) will return largest column value of each row.\n",
    "            # second column on max result is index of where max element was\n",
    "            # # found, so we pick action with the larger expected reward.\n",
    "            # writer.add_scalar('Q0', policy_net.eval()(state)[0, 0])\n",
    "            # writer.add_scalar('Q1', policy_net.eval()(state)[0, 1])\n",
    "            # writer.add_scalar('Q2', policy_net.eval()(state)[0, 2])\n",
    "            # writer.add_scalar('Q3', policy_net.eval()(state)[0, 3])\n",
    "            # writer.add_scalar('Q4', policy_net.eval()(state)[0, 4])\n",
    "            return policy_net.eval()(state)[0].max(1)[1].view(1, 1)\n",
    "    else:\n",
    "        return torch.tensor([[random.randrange(num_states)]], device=device, dtype=torch.long)\n",
    "\n",
    "\n",
    "# Yes yes, I'm a terrible person - I'll clean this up later\n",
    "steps_done = 0\n",
    "episode_durations = []\n",
    "lines_cleared = []\n",
    "eps_values = []"
   ]
  },
  {
   "cell_type": "code",
   "execution_count": null,
   "metadata": {},
   "outputs": [],
   "source": [
    "def train(num_episodes=1000, human=False):\n",
    "    global steps_done\n",
    "\n",
    "    for i_episode in range(num_episodes):\n",
    "        # Initialize the environment and state\n",
    "        height, old_height, lines, old_lines = 0, 0, 0, 0\n",
    "        env.reset()\n",
    "        last_state = utils.get_screen(env.get_grid(), device)\n",
    "        state = utils.get_screen(env.get_grid(), device)\n",
    "\n",
    "        # if not human:\n",
    "        state_array = [last_state] * params.MULTISTEP_PARAM\n",
    "        reward_array = [0] * params.MULTISTEP_PARAM\n",
    "        reward_sum = 0\n",
    "        array_pos = 0\n",
    "        next_array_pos = 1\n",
    "        warmup = 0\n",
    "\n",
    "        for t in itertools.count():\n",
    "            steps_done += 1\n",
    "            # Select and perform an action\n",
    "            if human:\n",
    "                eps = 0\n",
    "            else:\n",
    "                eps = utils.curr_eps(steps_done)\n",
    "            action = select_action(state, eps)\n",
    "            state, _, done = env.step(action.item())\n",
    "            piece_fell = reward.did_piece_fall(env)\n",
    "\n",
    "            # Observe new state\n",
    "            state = utils.get_screen(state, device)\n",
    "\n",
    "            if not human:\n",
    "                state_array[array_pos] = state\n",
    "\n",
    "                # Create reward\n",
    "                height = reward.get_height(env)\n",
    "                lines = env._total_lines_cleared\n",
    "                reward_single = reward.create_reward(piece_fell, action, done, height, old_height, lines, old_lines)\n",
    "                reward_sum = (params.MULISTEP_GAMMA * reward_sum) + reward_single - (params.MULISTEP_GAMMA ** params.MULTISTEP_PARAM) * reward_array[array_pos]\n",
    "                reward_array[array_pos] = reward_single\n",
    "                reward_sum = torch.tensor([reward_sum], device=device).type(torch.float)\n",
    "\n",
    "                # Store the transition in memory\n",
    "                if warmup > params.MULTISTEP_PARAM:\n",
    "                    model_memory.push(state_array[next_array_pos], action, state, reward_sum)\n",
    "\n",
    "                # Perform one step of the optimization (on the target network)\n",
    "                if (warmup + 1) % params.TRAIN_RATE == 0:\n",
    "                    loss.optimize_model(optimizer, model_memory, policy_net, target_net)\n",
    "                if done or t > 5000:\n",
    "                    # 5000 here just to stop us playing forever...\n",
    "                    episode_durations.append(t + 1)\n",
    "                    lines_cleared.append(lines)\n",
    "                    eps_values.append(eps)\n",
    "                    utils.plot_durations(episode_durations, lines_cleared, eps_values, save='latest.png')\n",
    "                    break\n",
    "\n",
    "            else:\n",
    "                if done:\n",
    "                    break\n",
    "\n",
    "            # Set up params for next frame\n",
    "            old_height = height\n",
    "            old_lines = lines\n",
    "            if not human:\n",
    "                array_pos = (array_pos + 1) % params.MULTISTEP_PARAM\n",
    "                next_array_pos = (next_array_pos + 1) % params.MULTISTEP_PARAM\n",
    "                warmup += 1\n",
    "\n",
    "        if not human:\n",
    "            # Update the target network, copying all weights and biases in DQN\n",
    "            if i_episode % params.TARGET_UPDATE == 0:\n",
    "                target_net.load_state_dict(policy_net.state_dict())"
   ]
  },
  {
   "cell_type": "code",
   "execution_count": null,
   "metadata": {},
   "outputs": [],
   "source": [
    "def watch_model(rounds=1000):\n",
    "    with torch.no_grad():\n",
    "        train(rounds, human=True)"
   ]
  },
  {
   "cell_type": "code",
   "execution_count": null,
   "metadata": {
    "scrolled": true
   },
   "outputs": [
    {
     "data": {
      "image/png": "[encoded data removed]",
      "text/plain": [
       "<Figure size 432x288 with 1 Axes>"
      ]
     },
     "metadata": {
      "needs_background": "light"
     },
     "output_type": "display_data"
    }
   ],
   "source": [
    "# Train and save the model at intervals\n",
    "idx = 0\n",
    "while True:\n",
    "    train(5000)\n",
    "    torch.save(policy_net, f'{load_net_prefix}{idx}')\n",
    "    idx += 1\n",
    "\n",
    "# from tetris.Tetris import watch_bot_tetris\n",
    "# action_func = lambda e: policy_net.eval()(utils.get_screen(e.get_grid(), device)).max(1)[1].view(1, 1).squeeze().item()\n",
    "# watch_bot_tetris(action_func, pieces=[O])"
   ]
  }
 ],
 "metadata": {
  "kernelspec": {
   "display_name": "Python 3",
   "language": "python",
   "name": "python3"
  },
  "language_info": {
   "codemirror_mode": {
    "name": "ipython",
    "version": 3
   },
   "file_extension": ".py",
   "mimetype": "text/x-python",
   "name": "python",
   "nbconvert_exporter": "python",
   "pygments_lexer": "ipython3",
   "version": "3.6.7"
  }
 },
 "nbformat": 4,
 "nbformat_minor": 2
}
